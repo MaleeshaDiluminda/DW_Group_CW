{
  "nbformat": 4,
  "nbformat_minor": 0,
  "metadata": {
    "colab": {
      "provenance": []
    },
    "kernelspec": {
      "name": "python3",
      "display_name": "Python 3"
    },
    "language_info": {
      "name": "python"
    }
  },
  "cells": [
    {
      "cell_type": "markdown",
      "source": [
        "Data Warehousing and Business Intelligence\n",
        "\n"
      ],
      "metadata": {
        "id": "onbmi82IctVc"
      }
    },
    {
      "cell_type": "code",
      "source": [
        "from google.colab import drive\n",
        "drive.mount('/content/drive')"
      ],
      "metadata": {
        "id": "lpdBDx2VFQmE",
        "colab": {
          "base_uri": "https://localhost:8080/"
        },
        "outputId": "032e6325-281a-4501-c85a-91083a94035c"
      },
      "execution_count": null,
      "outputs": [
        {
          "output_type": "stream",
          "name": "stdout",
          "text": [
            "Mounted at /content/drive\n"
          ]
        }
      ]
    },
    {
      "cell_type": "code",
      "source": [
        "from google.colab import drive\n",
        "import pandas as pd\n",
        "\n",
        "drive.mount('/content/drive')\n",
        "\n",
        "file_path = '/content/drive/My Drive/bank_transactions.csv'\n",
        "\n",
        "df = pd.read_csv(file_path)\n",
        "\n",
        "# df.head()"
      ],
      "metadata": {
        "colab": {
          "base_uri": "https://localhost:8080/"
        },
        "id": "u1vFKkyXF2lz",
        "outputId": "7ac98ca8-b006-4e2e-a7d9-ff9c4c638da1"
      },
      "execution_count": null,
      "outputs": [
        {
          "output_type": "stream",
          "name": "stdout",
          "text": [
            "Drive already mounted at /content/drive; to attempt to forcibly remount, call drive.mount(\"/content/drive\", force_remount=True).\n"
          ]
        }
      ]
    },
    {
      "cell_type": "markdown",
      "source": [
        "# Identify and remove null **values**"
      ],
      "metadata": {
        "id": "zOQKKv_Fckcq"
      }
    },
    {
      "cell_type": "code",
      "source": [
        "print(df.isnull().sum())\n"
      ],
      "metadata": {
        "colab": {
          "base_uri": "https://localhost:8080/"
        },
        "id": "6gPvSL9wS-9L",
        "outputId": "e98d6335-d78f-40e8-dc55-dbc077b11c64"
      },
      "execution_count": null,
      "outputs": [
        {
          "output_type": "stream",
          "name": "stdout",
          "text": [
            "TransactionID                 0\n",
            "CustomerID                    0\n",
            "CustomerDOB                3397\n",
            "CustGender                 1100\n",
            "CustLocation                151\n",
            "CustAccountBalance         2369\n",
            "TransactionDate               0\n",
            "TransactionTime               0\n",
            "TransactionAmount (INR)       0\n",
            "dtype: int64\n"
          ]
        }
      ]
    },
    {
      "cell_type": "code",
      "source": [
        "print(df.isnull().sum().sum())\n"
      ],
      "metadata": {
        "colab": {
          "base_uri": "https://localhost:8080/"
        },
        "id": "Wox00mt9TIgn",
        "outputId": "32f1634b-ddbd-4cc0-f672-fc09cca7e6ab"
      },
      "execution_count": null,
      "outputs": [
        {
          "output_type": "stream",
          "name": "stdout",
          "text": [
            "7017\n"
          ]
        }
      ]
    },
    {
      "cell_type": "code",
      "source": [
        "df[df.isnull().any(axis=1)]\n"
      ],
      "metadata": {
        "colab": {
          "base_uri": "https://localhost:8080/",
          "height": 424
        },
        "id": "fz5GLDOITSh0",
        "outputId": "03c74530-c701-4f70-db67-7b07324eb53f"
      },
      "execution_count": null,
      "outputs": [
        {
          "output_type": "execute_result",
          "data": {
            "text/plain": [
              "        TransactionID CustomerID CustomerDOB CustGender  \\\n",
              "29                T30   C8736958    19/12/86          M   \n",
              "176              T177   C5698953    1/1/1800        NaN   \n",
              "222              T223   C9022645         NaN          M   \n",
              "1271            T1272   C2314972     29/7/93          M   \n",
              "1495            T1496   C2515550         NaN          M   \n",
              "...               ...        ...         ...        ...   \n",
              "1047762      T1047763   C3827041         NaN          M   \n",
              "1047919      T1047920   C2427054         NaN          M   \n",
              "1048048      T1048049   C1927213     25/4/80          M   \n",
              "1048152      T1048153   C8138543         NaN          F   \n",
              "1048472      T1048473   C1242585         NaN          M   \n",
              "\n",
              "                     CustLocation  CustAccountBalance TransactionDate  \\\n",
              "29       GRAM PANCHAYTH HYDERABAD                 NaN          3/8/16   \n",
              "176                   NAVI MUMBAI             8512.28         12/8/16   \n",
              "222                      BHIWANDI             1730.30        21/10/16   \n",
              "1271                        THANE                 NaN        21/10/16   \n",
              "1495                    NEW DELHI              384.07        21/10/16   \n",
              "...                           ...                 ...             ...   \n",
              "1047762                      PUNE               91.36         18/9/16   \n",
              "1047919                      PUNE               91.36         18/9/16   \n",
              "1048048                     SALEM                 NaN         18/9/16   \n",
              "1048152         REIS MAGOS BARDEZ             2630.67         18/9/16   \n",
              "1048472                 NEW DELHI          1290777.41         18/9/16   \n",
              "\n",
              "         TransactionTime  TransactionAmount (INR)  \n",
              "29                160636                   2600.0  \n",
              "176               155727                   3449.0  \n",
              "222               150814                   4000.0  \n",
              "1271              203227                     53.0  \n",
              "1495              193326                   2800.0  \n",
              "...                  ...                      ...  \n",
              "1047762           193122                    284.0  \n",
              "1047919           201925                    365.0  \n",
              "1048048            82422                   2200.0  \n",
              "1048152           181307                    252.0  \n",
              "1048472           175303                   8921.0  \n",
              "\n",
              "[6953 rows x 9 columns]"
            ],
            "text/html": [
              "\n",
              "  <div id=\"df-daf2bf77-77f8-40e8-aa52-31150f545af4\" class=\"colab-df-container\">\n",
              "    <div>\n",
              "<style scoped>\n",
              "    .dataframe tbody tr th:only-of-type {\n",
              "        vertical-align: middle;\n",
              "    }\n",
              "\n",
              "    .dataframe tbody tr th {\n",
              "        vertical-align: top;\n",
              "    }\n",
              "\n",
              "    .dataframe thead th {\n",
              "        text-align: right;\n",
              "    }\n",
              "</style>\n",
              "<table border=\"1\" class=\"dataframe\">\n",
              "  <thead>\n",
              "    <tr style=\"text-align: right;\">\n",
              "      <th></th>\n",
              "      <th>TransactionID</th>\n",
              "      <th>CustomerID</th>\n",
              "      <th>CustomerDOB</th>\n",
              "      <th>CustGender</th>\n",
              "      <th>CustLocation</th>\n",
              "      <th>CustAccountBalance</th>\n",
              "      <th>TransactionDate</th>\n",
              "      <th>TransactionTime</th>\n",
              "      <th>TransactionAmount (INR)</th>\n",
              "    </tr>\n",
              "  </thead>\n",
              "  <tbody>\n",
              "    <tr>\n",
              "      <th>29</th>\n",
              "      <td>T30</td>\n",
              "      <td>C8736958</td>\n",
              "      <td>19/12/86</td>\n",
              "      <td>M</td>\n",
              "      <td>GRAM PANCHAYTH HYDERABAD</td>\n",
              "      <td>NaN</td>\n",
              "      <td>3/8/16</td>\n",
              "      <td>160636</td>\n",
              "      <td>2600.0</td>\n",
              "    </tr>\n",
              "    <tr>\n",
              "      <th>176</th>\n",
              "      <td>T177</td>\n",
              "      <td>C5698953</td>\n",
              "      <td>1/1/1800</td>\n",
              "      <td>NaN</td>\n",
              "      <td>NAVI MUMBAI</td>\n",
              "      <td>8512.28</td>\n",
              "      <td>12/8/16</td>\n",
              "      <td>155727</td>\n",
              "      <td>3449.0</td>\n",
              "    </tr>\n",
              "    <tr>\n",
              "      <th>222</th>\n",
              "      <td>T223</td>\n",
              "      <td>C9022645</td>\n",
              "      <td>NaN</td>\n",
              "      <td>M</td>\n",
              "      <td>BHIWANDI</td>\n",
              "      <td>1730.30</td>\n",
              "      <td>21/10/16</td>\n",
              "      <td>150814</td>\n",
              "      <td>4000.0</td>\n",
              "    </tr>\n",
              "    <tr>\n",
              "      <th>1271</th>\n",
              "      <td>T1272</td>\n",
              "      <td>C2314972</td>\n",
              "      <td>29/7/93</td>\n",
              "      <td>M</td>\n",
              "      <td>THANE</td>\n",
              "      <td>NaN</td>\n",
              "      <td>21/10/16</td>\n",
              "      <td>203227</td>\n",
              "      <td>53.0</td>\n",
              "    </tr>\n",
              "    <tr>\n",
              "      <th>1495</th>\n",
              "      <td>T1496</td>\n",
              "      <td>C2515550</td>\n",
              "      <td>NaN</td>\n",
              "      <td>M</td>\n",
              "      <td>NEW DELHI</td>\n",
              "      <td>384.07</td>\n",
              "      <td>21/10/16</td>\n",
              "      <td>193326</td>\n",
              "      <td>2800.0</td>\n",
              "    </tr>\n",
              "    <tr>\n",
              "      <th>...</th>\n",
              "      <td>...</td>\n",
              "      <td>...</td>\n",
              "      <td>...</td>\n",
              "      <td>...</td>\n",
              "      <td>...</td>\n",
              "      <td>...</td>\n",
              "      <td>...</td>\n",
              "      <td>...</td>\n",
              "      <td>...</td>\n",
              "    </tr>\n",
              "    <tr>\n",
              "      <th>1047762</th>\n",
              "      <td>T1047763</td>\n",
              "      <td>C3827041</td>\n",
              "      <td>NaN</td>\n",
              "      <td>M</td>\n",
              "      <td>PUNE</td>\n",
              "      <td>91.36</td>\n",
              "      <td>18/9/16</td>\n",
              "      <td>193122</td>\n",
              "      <td>284.0</td>\n",
              "    </tr>\n",
              "    <tr>\n",
              "      <th>1047919</th>\n",
              "      <td>T1047920</td>\n",
              "      <td>C2427054</td>\n",
              "      <td>NaN</td>\n",
              "      <td>M</td>\n",
              "      <td>PUNE</td>\n",
              "      <td>91.36</td>\n",
              "      <td>18/9/16</td>\n",
              "      <td>201925</td>\n",
              "      <td>365.0</td>\n",
              "    </tr>\n",
              "    <tr>\n",
              "      <th>1048048</th>\n",
              "      <td>T1048049</td>\n",
              "      <td>C1927213</td>\n",
              "      <td>25/4/80</td>\n",
              "      <td>M</td>\n",
              "      <td>SALEM</td>\n",
              "      <td>NaN</td>\n",
              "      <td>18/9/16</td>\n",
              "      <td>82422</td>\n",
              "      <td>2200.0</td>\n",
              "    </tr>\n",
              "    <tr>\n",
              "      <th>1048152</th>\n",
              "      <td>T1048153</td>\n",
              "      <td>C8138543</td>\n",
              "      <td>NaN</td>\n",
              "      <td>F</td>\n",
              "      <td>REIS MAGOS BARDEZ</td>\n",
              "      <td>2630.67</td>\n",
              "      <td>18/9/16</td>\n",
              "      <td>181307</td>\n",
              "      <td>252.0</td>\n",
              "    </tr>\n",
              "    <tr>\n",
              "      <th>1048472</th>\n",
              "      <td>T1048473</td>\n",
              "      <td>C1242585</td>\n",
              "      <td>NaN</td>\n",
              "      <td>M</td>\n",
              "      <td>NEW DELHI</td>\n",
              "      <td>1290777.41</td>\n",
              "      <td>18/9/16</td>\n",
              "      <td>175303</td>\n",
              "      <td>8921.0</td>\n",
              "    </tr>\n",
              "  </tbody>\n",
              "</table>\n",
              "<p>6953 rows × 9 columns</p>\n",
              "</div>\n",
              "    <div class=\"colab-df-buttons\">\n",
              "\n",
              "  <div class=\"colab-df-container\">\n",
              "    <button class=\"colab-df-convert\" onclick=\"convertToInteractive('df-daf2bf77-77f8-40e8-aa52-31150f545af4')\"\n",
              "            title=\"Convert this dataframe to an interactive table.\"\n",
              "            style=\"display:none;\">\n",
              "\n",
              "  <svg xmlns=\"http://www.w3.org/2000/svg\" height=\"24px\" viewBox=\"0 -960 960 960\">\n",
              "    <path d=\"M120-120v-720h720v720H120Zm60-500h600v-160H180v160Zm220 220h160v-160H400v160Zm0 220h160v-160H400v160ZM180-400h160v-160H180v160Zm440 0h160v-160H620v160ZM180-180h160v-160H180v160Zm440 0h160v-160H620v160Z\"/>\n",
              "  </svg>\n",
              "    </button>\n",
              "\n",
              "  <style>\n",
              "    .colab-df-container {\n",
              "      display:flex;\n",
              "      gap: 12px;\n",
              "    }\n",
              "\n",
              "    .colab-df-convert {\n",
              "      background-color: #E8F0FE;\n",
              "      border: none;\n",
              "      border-radius: 50%;\n",
              "      cursor: pointer;\n",
              "      display: none;\n",
              "      fill: #1967D2;\n",
              "      height: 32px;\n",
              "      padding: 0 0 0 0;\n",
              "      width: 32px;\n",
              "    }\n",
              "\n",
              "    .colab-df-convert:hover {\n",
              "      background-color: #E2EBFA;\n",
              "      box-shadow: 0px 1px 2px rgba(60, 64, 67, 0.3), 0px 1px 3px 1px rgba(60, 64, 67, 0.15);\n",
              "      fill: #174EA6;\n",
              "    }\n",
              "\n",
              "    .colab-df-buttons div {\n",
              "      margin-bottom: 4px;\n",
              "    }\n",
              "\n",
              "    [theme=dark] .colab-df-convert {\n",
              "      background-color: #3B4455;\n",
              "      fill: #D2E3FC;\n",
              "    }\n",
              "\n",
              "    [theme=dark] .colab-df-convert:hover {\n",
              "      background-color: #434B5C;\n",
              "      box-shadow: 0px 1px 3px 1px rgba(0, 0, 0, 0.15);\n",
              "      filter: drop-shadow(0px 1px 2px rgba(0, 0, 0, 0.3));\n",
              "      fill: #FFFFFF;\n",
              "    }\n",
              "  </style>\n",
              "\n",
              "    <script>\n",
              "      const buttonEl =\n",
              "        document.querySelector('#df-daf2bf77-77f8-40e8-aa52-31150f545af4 button.colab-df-convert');\n",
              "      buttonEl.style.display =\n",
              "        google.colab.kernel.accessAllowed ? 'block' : 'none';\n",
              "\n",
              "      async function convertToInteractive(key) {\n",
              "        const element = document.querySelector('#df-daf2bf77-77f8-40e8-aa52-31150f545af4');\n",
              "        const dataTable =\n",
              "          await google.colab.kernel.invokeFunction('convertToInteractive',\n",
              "                                                    [key], {});\n",
              "        if (!dataTable) return;\n",
              "\n",
              "        const docLinkHtml = 'Like what you see? Visit the ' +\n",
              "          '<a target=\"_blank\" href=https://colab.research.google.com/notebooks/data_table.ipynb>data table notebook</a>'\n",
              "          + ' to learn more about interactive tables.';\n",
              "        element.innerHTML = '';\n",
              "        dataTable['output_type'] = 'display_data';\n",
              "        await google.colab.output.renderOutput(dataTable, element);\n",
              "        const docLink = document.createElement('div');\n",
              "        docLink.innerHTML = docLinkHtml;\n",
              "        element.appendChild(docLink);\n",
              "      }\n",
              "    </script>\n",
              "  </div>\n",
              "\n",
              "\n",
              "<div id=\"df-c4d7e7c2-a277-401d-84b6-16f1f2c8d502\">\n",
              "  <button class=\"colab-df-quickchart\" onclick=\"quickchart('df-c4d7e7c2-a277-401d-84b6-16f1f2c8d502')\"\n",
              "            title=\"Suggest charts\"\n",
              "            style=\"display:none;\">\n",
              "\n",
              "<svg xmlns=\"http://www.w3.org/2000/svg\" height=\"24px\"viewBox=\"0 0 24 24\"\n",
              "     width=\"24px\">\n",
              "    <g>\n",
              "        <path d=\"M19 3H5c-1.1 0-2 .9-2 2v14c0 1.1.9 2 2 2h14c1.1 0 2-.9 2-2V5c0-1.1-.9-2-2-2zM9 17H7v-7h2v7zm4 0h-2V7h2v10zm4 0h-2v-4h2v4z\"/>\n",
              "    </g>\n",
              "</svg>\n",
              "  </button>\n",
              "\n",
              "<style>\n",
              "  .colab-df-quickchart {\n",
              "      --bg-color: #E8F0FE;\n",
              "      --fill-color: #1967D2;\n",
              "      --hover-bg-color: #E2EBFA;\n",
              "      --hover-fill-color: #174EA6;\n",
              "      --disabled-fill-color: #AAA;\n",
              "      --disabled-bg-color: #DDD;\n",
              "  }\n",
              "\n",
              "  [theme=dark] .colab-df-quickchart {\n",
              "      --bg-color: #3B4455;\n",
              "      --fill-color: #D2E3FC;\n",
              "      --hover-bg-color: #434B5C;\n",
              "      --hover-fill-color: #FFFFFF;\n",
              "      --disabled-bg-color: #3B4455;\n",
              "      --disabled-fill-color: #666;\n",
              "  }\n",
              "\n",
              "  .colab-df-quickchart {\n",
              "    background-color: var(--bg-color);\n",
              "    border: none;\n",
              "    border-radius: 50%;\n",
              "    cursor: pointer;\n",
              "    display: none;\n",
              "    fill: var(--fill-color);\n",
              "    height: 32px;\n",
              "    padding: 0;\n",
              "    width: 32px;\n",
              "  }\n",
              "\n",
              "  .colab-df-quickchart:hover {\n",
              "    background-color: var(--hover-bg-color);\n",
              "    box-shadow: 0 1px 2px rgba(60, 64, 67, 0.3), 0 1px 3px 1px rgba(60, 64, 67, 0.15);\n",
              "    fill: var(--button-hover-fill-color);\n",
              "  }\n",
              "\n",
              "  .colab-df-quickchart-complete:disabled,\n",
              "  .colab-df-quickchart-complete:disabled:hover {\n",
              "    background-color: var(--disabled-bg-color);\n",
              "    fill: var(--disabled-fill-color);\n",
              "    box-shadow: none;\n",
              "  }\n",
              "\n",
              "  .colab-df-spinner {\n",
              "    border: 2px solid var(--fill-color);\n",
              "    border-color: transparent;\n",
              "    border-bottom-color: var(--fill-color);\n",
              "    animation:\n",
              "      spin 1s steps(1) infinite;\n",
              "  }\n",
              "\n",
              "  @keyframes spin {\n",
              "    0% {\n",
              "      border-color: transparent;\n",
              "      border-bottom-color: var(--fill-color);\n",
              "      border-left-color: var(--fill-color);\n",
              "    }\n",
              "    20% {\n",
              "      border-color: transparent;\n",
              "      border-left-color: var(--fill-color);\n",
              "      border-top-color: var(--fill-color);\n",
              "    }\n",
              "    30% {\n",
              "      border-color: transparent;\n",
              "      border-left-color: var(--fill-color);\n",
              "      border-top-color: var(--fill-color);\n",
              "      border-right-color: var(--fill-color);\n",
              "    }\n",
              "    40% {\n",
              "      border-color: transparent;\n",
              "      border-right-color: var(--fill-color);\n",
              "      border-top-color: var(--fill-color);\n",
              "    }\n",
              "    60% {\n",
              "      border-color: transparent;\n",
              "      border-right-color: var(--fill-color);\n",
              "    }\n",
              "    80% {\n",
              "      border-color: transparent;\n",
              "      border-right-color: var(--fill-color);\n",
              "      border-bottom-color: var(--fill-color);\n",
              "    }\n",
              "    90% {\n",
              "      border-color: transparent;\n",
              "      border-bottom-color: var(--fill-color);\n",
              "    }\n",
              "  }\n",
              "</style>\n",
              "\n",
              "  <script>\n",
              "    async function quickchart(key) {\n",
              "      const quickchartButtonEl =\n",
              "        document.querySelector('#' + key + ' button');\n",
              "      quickchartButtonEl.disabled = true;  // To prevent multiple clicks.\n",
              "      quickchartButtonEl.classList.add('colab-df-spinner');\n",
              "      try {\n",
              "        const charts = await google.colab.kernel.invokeFunction(\n",
              "            'suggestCharts', [key], {});\n",
              "      } catch (error) {\n",
              "        console.error('Error during call to suggestCharts:', error);\n",
              "      }\n",
              "      quickchartButtonEl.classList.remove('colab-df-spinner');\n",
              "      quickchartButtonEl.classList.add('colab-df-quickchart-complete');\n",
              "    }\n",
              "    (() => {\n",
              "      let quickchartButtonEl =\n",
              "        document.querySelector('#df-c4d7e7c2-a277-401d-84b6-16f1f2c8d502 button');\n",
              "      quickchartButtonEl.style.display =\n",
              "        google.colab.kernel.accessAllowed ? 'block' : 'none';\n",
              "    })();\n",
              "  </script>\n",
              "</div>\n",
              "\n",
              "    </div>\n",
              "  </div>\n"
            ],
            "application/vnd.google.colaboratory.intrinsic+json": {
              "type": "dataframe",
              "repr_error": "0"
            }
          },
          "metadata": {},
          "execution_count": 6
        }
      ]
    },
    {
      "cell_type": "code",
      "source": [
        "df_cleaned = df.dropna()\n"
      ],
      "metadata": {
        "id": "P5f1cDMaVEME"
      },
      "execution_count": null,
      "outputs": []
    },
    {
      "cell_type": "code",
      "source": [
        "print(df_cleaned.isnull().sum())\n"
      ],
      "metadata": {
        "colab": {
          "base_uri": "https://localhost:8080/"
        },
        "id": "NIKj52uzVGJ1",
        "outputId": "daaba2b8-1fb1-4723-d21d-0556428bea11"
      },
      "execution_count": null,
      "outputs": [
        {
          "output_type": "stream",
          "name": "stdout",
          "text": [
            "TransactionID              0\n",
            "CustomerID                 0\n",
            "CustomerDOB                0\n",
            "CustGender                 0\n",
            "CustLocation               0\n",
            "CustAccountBalance         0\n",
            "TransactionDate            0\n",
            "TransactionTime            0\n",
            "TransactionAmount (INR)    0\n",
            "dtype: int64\n"
          ]
        }
      ]
    },
    {
      "cell_type": "code",
      "source": [
        "print(df_cleaned.isnull().sum().sum())"
      ],
      "metadata": {
        "colab": {
          "base_uri": "https://localhost:8080/"
        },
        "id": "d4EIOVGVV2me",
        "outputId": "0a5adecb-8ac3-4786-e261-1bf2efeea85b"
      },
      "execution_count": null,
      "outputs": [
        {
          "output_type": "stream",
          "name": "stdout",
          "text": [
            "0\n"
          ]
        }
      ]
    },
    {
      "cell_type": "markdown",
      "source": [
        "# **Identify and remove invalid transaction amount values**"
      ],
      "metadata": {
        "id": "X00nSrjVcFA7"
      }
    },
    {
      "cell_type": "code",
      "source": [
        "# Counting missing values\n",
        "print(df['TransactionAmount (INR)'].isnull().sum())\n"
      ],
      "metadata": {
        "colab": {
          "base_uri": "https://localhost:8080/"
        },
        "id": "WkROyyzFWK5t",
        "outputId": "ad4eb6a5-7150-46c7-d34d-4c4849c974e2"
      },
      "execution_count": null,
      "outputs": [
        {
          "output_type": "stream",
          "name": "stdout",
          "text": [
            "0\n"
          ]
        }
      ]
    },
    {
      "cell_type": "code",
      "source": [
        "# Identifying invalid amounts\n",
        "print(df[df['TransactionAmount (INR)'] <= 0])\n"
      ],
      "metadata": {
        "colab": {
          "base_uri": "https://localhost:8080/"
        },
        "id": "BDG670AGWYDq",
        "outputId": "707f1b97-7cb0-4864-aedf-cd04464dc2fd"
      },
      "execution_count": null,
      "outputs": [
        {
          "output_type": "stream",
          "name": "stdout",
          "text": [
            "        TransactionID CustomerID CustomerDOB CustGender CustLocation  \\\n",
            "384              T385   C6117158     25/9/89          M    BANGALORE   \n",
            "2498            T2499   C9074213     10/6/88          M    BANGALORE   \n",
            "2623            T2624   C7930692     16/7/93          M    HYDERABAD   \n",
            "2672            T2673   C4397046     13/1/97          M       MUMBAI   \n",
            "4083            T4084   C4227711     3/12/91          M    NEW DELHI   \n",
            "...               ...        ...         ...        ...          ...   \n",
            "1029145      T1029146   C5524842     29/6/63          F      GURGAON   \n",
            "1032164      T1032165   C9026149     15/9/90          M    DERABASSI   \n",
            "1036358      T1036359   C5936956    1/1/1800          M      GURGAON   \n",
            "1038286      T1038287   C7633429    1/1/1800          M     N T PUNE   \n",
            "1038415      T1038416   C3924885      2/8/87          M       GUNTUR   \n",
            "\n",
            "         CustAccountBalance TransactionDate  TransactionTime  \\\n",
            "384                  128.84        21/10/16            74817   \n",
            "2498               15834.56        21/10/16           154219   \n",
            "2623                5795.30        21/10/16           152742   \n",
            "2672              185401.34        21/10/16            30017   \n",
            "4083               11846.77         22/9/16            70059   \n",
            "...                     ...             ...              ...   \n",
            "1029145           173469.49         13/9/16            33929   \n",
            "1032164                8.79         13/9/16           110728   \n",
            "1036358               48.90         18/9/16           115328   \n",
            "1038286           181600.42         18/9/16            53145   \n",
            "1038415               34.54         18/9/16            71820   \n",
            "\n",
            "         TransactionAmount (INR)  \n",
            "384                          0.0  \n",
            "2498                         0.0  \n",
            "2623                         0.0  \n",
            "2672                         0.0  \n",
            "4083                         0.0  \n",
            "...                          ...  \n",
            "1029145                      0.0  \n",
            "1032164                      0.0  \n",
            "1036358                      0.0  \n",
            "1038286                      0.0  \n",
            "1038415                      0.0  \n",
            "\n",
            "[835 rows x 9 columns]\n"
          ]
        }
      ]
    },
    {
      "cell_type": "code",
      "source": [
        "print(df[~df['TransactionAmount (INR)'].apply(lambda x: str(x).replace('.', '', 1).isdigit())])\n"
      ],
      "metadata": {
        "colab": {
          "base_uri": "https://localhost:8080/"
        },
        "id": "HApQwUvIWhmC",
        "outputId": "24a99658-df31-4984-998f-f19ee6990a57"
      },
      "execution_count": null,
      "outputs": [
        {
          "output_type": "stream",
          "name": "stdout",
          "text": [
            "Empty DataFrame\n",
            "Columns: [TransactionID, CustomerID, CustomerDOB, CustGender, CustLocation, CustAccountBalance, TransactionDate, TransactionTime, TransactionAmount (INR)]\n",
            "Index: []\n"
          ]
        }
      ]
    },
    {
      "cell_type": "code",
      "source": [
        "df_cleaned = df_cleaned[df_cleaned['TransactionAmount (INR)'] > 0]\n"
      ],
      "metadata": {
        "id": "NShMP_a6W_4D"
      },
      "execution_count": null,
      "outputs": []
    },
    {
      "cell_type": "code",
      "source": [
        "print(df_cleaned['TransactionAmount (INR)'].isnull().sum())\n",
        "print(df_cleaned[df_cleaned['TransactionAmount (INR)'] <= 0])"
      ],
      "metadata": {
        "colab": {
          "base_uri": "https://localhost:8080/"
        },
        "id": "aEPhhLRBaw0y",
        "outputId": "585d6b16-c270-435e-cd84-0c9197bda284"
      },
      "execution_count": null,
      "outputs": [
        {
          "output_type": "stream",
          "name": "stdout",
          "text": [
            "0\n",
            "Empty DataFrame\n",
            "Columns: [TransactionID, CustomerID, CustomerDOB, CustGender, CustLocation, CustAccountBalance, TransactionDate, TransactionTime, TransactionAmount (INR)]\n",
            "Index: []\n"
          ]
        }
      ]
    },
    {
      "cell_type": "code",
      "source": [
        "print(\"Minimum Transaction Amount:\", df_cleaned['TransactionAmount (INR)'].min())\n",
        "print(\"Maximum Transaction Amount:\", df_cleaned['TransactionAmount (INR)'].max())"
      ],
      "metadata": {
        "colab": {
          "base_uri": "https://localhost:8080/"
        },
        "id": "67pUPgcSbDpo",
        "outputId": "f52c1046-16f9-42fe-f2f3-bc0847d241ef"
      },
      "execution_count": null,
      "outputs": [
        {
          "output_type": "stream",
          "name": "stdout",
          "text": [
            "Minimum Transaction Amount: 0.01\n",
            "Maximum Transaction Amount: 1560034.99\n"
          ]
        }
      ]
    },
    {
      "cell_type": "markdown",
      "source": [
        "# Identify and remove invalid age values"
      ],
      "metadata": {
        "id": "QuCrmn65dE4p"
      }
    },
    {
      "cell_type": "code",
      "source": [
        "df['CustomerDOB'] = pd.to_datetime(df['CustomerDOB'], errors='coerce', dayfirst=True)\n"
      ],
      "metadata": {
        "colab": {
          "base_uri": "https://localhost:8080/"
        },
        "id": "T0C4fkZadKwq",
        "outputId": "a73747d5-6a63-49c7-9ed0-f63fb0648903"
      },
      "execution_count": null,
      "outputs": [
        {
          "output_type": "stream",
          "name": "stderr",
          "text": [
            "<ipython-input-16-b276d8e24317>:1: UserWarning: Could not infer format, so each element will be parsed individually, falling back to `dateutil`. To ensure parsing is consistent and as-expected, please specify a format.\n",
            "  df['CustomerDOB'] = pd.to_datetime(df['CustomerDOB'], errors='coerce', dayfirst=True)\n"
          ]
        }
      ]
    },
    {
      "cell_type": "code",
      "source": [
        "from datetime import datetime\n",
        "\n",
        "# Defining current year\n",
        "current_date = datetime.today()\n",
        "\n",
        "# # Converting days to years\n",
        "df['Age'] = (current_date - df['CustomerDOB']).dt.days // 365\n"
      ],
      "metadata": {
        "id": "I56Zs7lSmaZX"
      },
      "execution_count": null,
      "outputs": []
    },
    {
      "cell_type": "code",
      "source": [
        "# Displaying invalid ages\n",
        "print(df[(df['Age'] < 18) | (df['Age'] > 100)])\n"
      ],
      "metadata": {
        "colab": {
          "base_uri": "https://localhost:8080/"
        },
        "id": "qluKAT1mmfur",
        "outputId": "a3dfa14e-daf0-4d13-b33f-12fbeda18271"
      },
      "execution_count": null,
      "outputs": [
        {
          "output_type": "stream",
          "name": "stdout",
          "text": [
            "        TransactionID CustomerID CustomerDOB CustGender    CustLocation  \\\n",
            "1                  T2   C2142763  2057-04-04          M         JHAJJAR   \n",
            "3                  T4   C5342380  2073-09-14          F          MUMBAI   \n",
            "5                  T6   C1536588  2072-10-08          F        ITANAGAR   \n",
            "15                T16   C8334633  2068-07-10          F       NEW DELHI   \n",
            "16                T17   C1376215  1800-01-01          M          MUMBAI   \n",
            "...               ...        ...         ...        ...             ...   \n",
            "1048533      T1048534   C7431884  1800-01-01          M  MANDIR DHANBAD   \n",
            "1048536      T1048537   C2939947  2033-10-05          M       NEW DELHI   \n",
            "1048540      T1048541   C1528025  1800-01-01          M          MUMBAI   \n",
            "1048544      T1048545   C3712582  2071-10-05          M          MUMBAI   \n",
            "1048552      T1048553   C5091732  2071-08-21          F       NEW DELHI   \n",
            "\n",
            "         CustAccountBalance TransactionDate  TransactionTime  \\\n",
            "1                   2270.69          2/8/16           141858   \n",
            "3                 866503.21          2/8/16           142714   \n",
            "5                  53609.20          2/8/16           173940   \n",
            "15                  1283.12          1/8/16           125725   \n",
            "16                 77495.15          1/8/16           124727   \n",
            "...                     ...             ...              ...   \n",
            "1048533            53771.64         18/9/16           184049   \n",
            "1048536            92173.35         18/9/16           184556   \n",
            "1048540           230894.59         18/9/16           182331   \n",
            "1048544            25414.52         18/9/16           182015   \n",
            "1048552           235620.05         18/9/16           184234   \n",
            "\n",
            "         TransactionAmount (INR)    Age  \n",
            "1                       27999.00  -33.0  \n",
            "3                        2060.00  -49.0  \n",
            "5                         676.00  -48.0  \n",
            "15                        250.00  -44.0  \n",
            "16                       1423.11  225.0  \n",
            "...                          ...    ...  \n",
            "1048533                   520.00  225.0  \n",
            "1048536                  1319.04   -9.0  \n",
            "1048540                   290.00  225.0  \n",
            "1048544                   400.00  -47.0  \n",
            "1048552                  1058.00  -47.0  \n",
            "\n",
            "[162738 rows x 10 columns]\n"
          ]
        }
      ]
    },
    {
      "cell_type": "code",
      "source": [
        "# ages between 18 and 100\n",
        "df_cleaned = df[(df['Age'] >= 18) & (df['Age'] <= 100)]\n"
      ],
      "metadata": {
        "id": "J5Yt3o50mfm2"
      },
      "execution_count": null,
      "outputs": []
    },
    {
      "cell_type": "code",
      "source": [
        "print(df_cleaned['Age'].min(), df_cleaned['Age'].max())\n"
      ],
      "metadata": {
        "colab": {
          "base_uri": "https://localhost:8080/"
        },
        "id": "hzeH1qtLm7hF",
        "outputId": "344545fd-0950-49f3-9e1b-ef1968a1a5de"
      },
      "execution_count": null,
      "outputs": [
        {
          "output_type": "stream",
          "name": "stdout",
          "text": [
            "18.0 50.0\n"
          ]
        }
      ]
    },
    {
      "cell_type": "code",
      "source": [
        "# Saving cleaned data set\n",
        "df_cleaned.to_csv(\"cleaned_data.csv\", index=False)"
      ],
      "metadata": {
        "id": "5rKZJlt9oLbX"
      },
      "execution_count": null,
      "outputs": []
    },
    {
      "cell_type": "code",
      "source": [],
      "metadata": {
        "id": "iPKKFosvszr0"
      },
      "execution_count": null,
      "outputs": []
    },
    {
      "cell_type": "markdown",
      "source": [
        "# 5 top Locations where the maximum number of transactions occurred.\n"
      ],
      "metadata": {
        "id": "xUP2EB-mp0O-"
      }
    },
    {
      "cell_type": "code",
      "source": [
        "top_locations = df['CustLocation'].value_counts().head(5)\n",
        "print(top_locations)\n"
      ],
      "metadata": {
        "colab": {
          "base_uri": "https://localhost:8080/"
        },
        "id": "BtmP95QKOTEP",
        "outputId": "599e1abc-c3b1-46c7-c4bd-94246b01f0dc"
      },
      "execution_count": null,
      "outputs": [
        {
          "output_type": "stream",
          "name": "stdout",
          "text": [
            "CustLocation\n",
            "MUMBAI       103595\n",
            "NEW DELHI     84928\n",
            "BANGALORE     81555\n",
            "GURGAON       73818\n",
            "DELHI         71019\n",
            "Name: count, dtype: int64\n"
          ]
        }
      ]
    },
    {
      "cell_type": "code",
      "source": [],
      "metadata": {
        "id": "xg9gVGEPrmyj"
      },
      "execution_count": null,
      "outputs": []
    }
  ]
}